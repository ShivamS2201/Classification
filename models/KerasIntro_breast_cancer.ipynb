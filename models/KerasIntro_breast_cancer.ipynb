{
 "cells": [
  {
   "cell_type": "code",
   "execution_count": 9,
   "metadata": {},
   "outputs": [],
   "source": [
    "from keras.models import Sequential\n",
    "from keras.layers import Dense"
   ]
  },
  {
   "cell_type": "code",
   "execution_count": 6,
   "metadata": {},
   "outputs": [
    {
     "ename": "ModuleNotFoundError",
     "evalue": "No module named 'ks'",
     "output_type": "error",
     "traceback": [
      "\u001b[1;31m---------------------------------------------------------------------------\u001b[0m",
      "\u001b[1;31mModuleNotFoundError\u001b[0m                       Traceback (most recent call last)",
      "\u001b[1;32m<ipython-input-6-828fbf5cd452>\u001b[0m in \u001b[0;36m<module>\u001b[1;34m\u001b[0m\n\u001b[1;32m----> 1\u001b[1;33m \u001b[1;32mfrom\u001b[0m \u001b[0mks\u001b[0m\u001b[1;33m.\u001b[0m\u001b[0mmodels\u001b[0m \u001b[1;32mimport\u001b[0m \u001b[0mSequential\u001b[0m\u001b[1;33m\u001b[0m\u001b[1;33m\u001b[0m\u001b[0m\n\u001b[0m\u001b[0;32m      2\u001b[0m \u001b[1;32mfrom\u001b[0m \u001b[0mkeras\u001b[0m\u001b[1;33m.\u001b[0m\u001b[0mlayers\u001b[0m \u001b[1;32mimport\u001b[0m \u001b[0mDense\u001b[0m\u001b[1;33m\u001b[0m\u001b[1;33m\u001b[0m\u001b[0m\n",
      "\u001b[1;31mModuleNotFoundError\u001b[0m: No module named 'ks'"
     ]
    }
   ],
   "source": [
    "from keras."
   ]
  },
  {
   "cell_type": "code",
   "execution_count": 2,
   "metadata": {},
   "outputs": [],
   "source": [
    "# Creating a Model\n",
    "model = Sequential()"
   ]
  },
  {
   "cell_type": "code",
   "execution_count": 3,
   "metadata": {},
   "outputs": [],
   "source": [
    "layer1 = Dense(units=32, activation = 'relu', input_dim = 30)\n",
    "model.add(layer1)\n",
    "model.add(Dense(units=16, activation = 'relu'))\n",
    "model.add(Dense(units=1, activation = 'sigmoid'))"
   ]
  },
  {
   "cell_type": "code",
   "execution_count": 4,
   "metadata": {},
   "outputs": [],
   "source": [
    "model.compile(optimizer='adam', loss='binary_crossentropy', metrics=['accuracy'])"
   ]
  },
  {
   "cell_type": "code",
   "execution_count": 5,
   "metadata": {},
   "outputs": [],
   "source": [
    "x"
   ]
  },
  {
   "cell_type": "code",
   "execution_count": 6,
   "metadata": {},
   "outputs": [
    {
     "name": "stdout",
     "output_type": "stream",
     "text": [
      "Epoch 1/20\n",
      "10/10 [==============================] - 0s 39ms/step - loss: 0.6367 - accuracy: 0.6615 - val_loss: 0.5432 - val_accuracy: 0.8246\n",
      "Epoch 2/20\n",
      "10/10 [==============================] - 0s 6ms/step - loss: 0.5054 - accuracy: 0.8681 - val_loss: 0.4457 - val_accuracy: 0.8860\n",
      "Epoch 3/20\n",
      "10/10 [==============================] - 0s 5ms/step - loss: 0.4076 - accuracy: 0.9099 - val_loss: 0.3680 - val_accuracy: 0.9035\n",
      "Epoch 4/20\n",
      "10/10 [==============================] - 0s 5ms/step - loss: 0.3281 - accuracy: 0.9385 - val_loss: 0.3076 - val_accuracy: 0.9035\n",
      "Epoch 5/20\n",
      "10/10 [==============================] - 0s 6ms/step - loss: 0.2664 - accuracy: 0.9429 - val_loss: 0.2606 - val_accuracy: 0.9035\n",
      "Epoch 6/20\n",
      "10/10 [==============================] - 0s 5ms/step - loss: 0.2199 - accuracy: 0.9495 - val_loss: 0.2258 - val_accuracy: 0.9123\n",
      "Epoch 7/20\n",
      "10/10 [==============================] - 0s 5ms/step - loss: 0.1862 - accuracy: 0.9626 - val_loss: 0.2006 - val_accuracy: 0.9123\n",
      "Epoch 8/20\n",
      "10/10 [==============================] - 0s 5ms/step - loss: 0.1632 - accuracy: 0.9648 - val_loss: 0.1823 - val_accuracy: 0.9211\n",
      "Epoch 9/20\n",
      "10/10 [==============================] - 0s 5ms/step - loss: 0.1446 - accuracy: 0.9670 - val_loss: 0.1678 - val_accuracy: 0.9211\n",
      "Epoch 10/20\n",
      "10/10 [==============================] - 0s 5ms/step - loss: 0.1312 - accuracy: 0.9692 - val_loss: 0.1546 - val_accuracy: 0.9211\n",
      "Epoch 11/20\n",
      "10/10 [==============================] - 0s 6ms/step - loss: 0.1200 - accuracy: 0.9736 - val_loss: 0.1444 - val_accuracy: 0.9298\n",
      "Epoch 12/20\n",
      "10/10 [==============================] - 0s 5ms/step - loss: 0.1109 - accuracy: 0.9758 - val_loss: 0.1346 - val_accuracy: 0.9474\n",
      "Epoch 13/20\n",
      "10/10 [==============================] - 0s 14ms/step - loss: 0.1035 - accuracy: 0.9758 - val_loss: 0.1273 - val_accuracy: 0.9561\n",
      "Epoch 14/20\n",
      "10/10 [==============================] - 0s 5ms/step - loss: 0.0979 - accuracy: 0.9780 - val_loss: 0.1230 - val_accuracy: 0.9561\n",
      "Epoch 15/20\n",
      "10/10 [==============================] - 0s 6ms/step - loss: 0.0927 - accuracy: 0.9780 - val_loss: 0.1174 - val_accuracy: 0.9561\n",
      "Epoch 16/20\n",
      "10/10 [==============================] - 0s 7ms/step - loss: 0.0874 - accuracy: 0.9758 - val_loss: 0.1129 - val_accuracy: 0.9649\n",
      "Epoch 17/20\n",
      "10/10 [==============================] - 0s 7ms/step - loss: 0.0833 - accuracy: 0.9758 - val_loss: 0.1092 - val_accuracy: 0.9649\n",
      "Epoch 18/20\n",
      "10/10 [==============================] - 0s 10ms/step - loss: 0.0796 - accuracy: 0.9758 - val_loss: 0.1072 - val_accuracy: 0.9649\n",
      "Epoch 19/20\n",
      "10/10 [==============================] - 0s 9ms/step - loss: 0.0766 - accuracy: 0.9758 - val_loss: 0.1043 - val_accuracy: 0.9649\n",
      "Epoch 20/20\n",
      "10/10 [==============================] - 0s 9ms/step - loss: 0.0737 - accuracy: 0.9802 - val_loss: 0.1013 - val_accuracy: 0.9649\n"
     ]
    },
    {
     "data": {
      "text/plain": [
       "<tensorflow.python.keras.callbacks.History at 0x27e6aee0fd0>"
      ]
     },
     "execution_count": 6,
     "metadata": {},
     "output_type": "execute_result"
    }
   ],
   "source": [
    "model.fit(x_train, y_train, epochs=20, batch_size = 50, validation_data=(x_test, y_test))"
   ]
  },
  {
   "cell_type": "code",
   "execution_count": 7,
   "metadata": {},
   "outputs": [
    {
     "name": "stdout",
     "output_type": "stream",
     "text": [
      "4/4 [==============================] - 0s 2ms/step - loss: 0.1013 - accuracy: 0.9649\n"
     ]
    },
    {
     "data": {
      "text/plain": [
       "[0.10133284330368042, 0.9649122953414917]"
      ]
     },
     "execution_count": 7,
     "metadata": {},
     "output_type": "execute_result"
    }
   ],
   "source": [
    "predictions = model.predict(x_test)\n",
    "score = model.evaluate(x_test, y_test)\n",
    "score"
   ]
  }
 ],
 "metadata": {
  "kernelspec": {
   "display_name": "Python 3",
   "language": "python",
   "name": "python3"
  },
  "language_info": {
   "codemirror_mode": {
    "name": "ipython",
    "version": 3
   },
   "file_extension": ".py",
   "mimetype": "text/x-python",
   "name": "python",
   "nbconvert_exporter": "python",
   "pygments_lexer": "ipython3",
   "version": "3.7.3"
  }
 },
 "nbformat": 4,
 "nbformat_minor": 2
}
