{
  "nbformat": 4,
  "nbformat_minor": 0,
  "metadata": {
    "colab": {
      "name": "Voyage à Machine Learning.ipynb submition",
      "provenance": [],
      "collapsed_sections": []
    },
    "kernelspec": {
      "name": "python3",
      "display_name": "Python 3"
    }
  },
  "cells": [
    {
      "cell_type": "markdown",
      "metadata": {
        "id": "QfTjogVvw5KL",
        "colab_type": "text"
      },
      "source": [
        " nucleus@sscbs.du.ac.in "
      ]
    },
    {
      "cell_type": "markdown",
      "metadata": {
        "id": "Xkpa273yx58R",
        "colab_type": "text"
      },
      "source": [
        "<h2 align = \"center\">Churn prediction using 1) Logistic Regression 2)Random Forest 3) KNN 4) SVM</h2>\n",
        "<h4 align = \"right\">-by Shivam Sharma</h4>"
      ]
    },
    {
      "cell_type": "code",
      "metadata": {
        "id": "J9Bes7zqzFV7",
        "colab_type": "code",
        "colab": {
          "base_uri": "https://localhost:8080/",
          "height": 71
        },
        "outputId": "ac06cf05-3a3f-40bd-e8ba-eae5773d1d32"
      },
      "source": [
        "# Import Necesaary Libraries and Model Classes\n",
        "import pandas as pd\n",
        "import numpy as np\n",
        "from sklearn.model_selection import train_test_split\n",
        "import matplotlib.pyplot as plt\n",
        "import seaborn as sns\n",
        "import warnings\n",
        "warnings.filterwarnings('ignore')"
      ],
      "execution_count": 2,
      "outputs": [
        {
          "output_type": "stream",
          "text": [
            "/usr/local/lib/python3.6/dist-packages/statsmodels/tools/_testing.py:19: FutureWarning: pandas.util.testing is deprecated. Use the functions in the public API at pandas.testing instead.\n",
            "  import pandas.util.testing as tm\n"
          ],
          "name": "stderr"
        }
      ]
    },
    {
      "cell_type": "markdown",
      "metadata": {
        "id": "dj12rDSHfpqR",
        "colab_type": "text"
      },
      "source": [
        "Let us import the dataset and see the different type of columns in it."
      ]
    },
    {
      "cell_type": "code",
      "metadata": {
        "id": "6HOS9ukQ9-fw",
        "colab_type": "code",
        "colab": {
          "base_uri": "https://localhost:8080/",
          "height": 224
        },
        "outputId": "ecb7c4b6-e835-4017-f162-632382956493"
      },
      "source": [
        "# importing dataset into environment\n",
        "dataset = pd.read_csv('Churn_Modelling.csv')\n",
        "dataset.head()\n"
      ],
      "execution_count": 5,
      "outputs": [
        {
          "output_type": "execute_result",
          "data": {
            "text/html": [
              "<div>\n",
              "<style scoped>\n",
              "    .dataframe tbody tr th:only-of-type {\n",
              "        vertical-align: middle;\n",
              "    }\n",
              "\n",
              "    .dataframe tbody tr th {\n",
              "        vertical-align: top;\n",
              "    }\n",
              "\n",
              "    .dataframe thead th {\n",
              "        text-align: right;\n",
              "    }\n",
              "</style>\n",
              "<table border=\"1\" class=\"dataframe\">\n",
              "  <thead>\n",
              "    <tr style=\"text-align: right;\">\n",
              "      <th></th>\n",
              "      <th>RowNumber</th>\n",
              "      <th>CustomerId</th>\n",
              "      <th>Surname</th>\n",
              "      <th>CreditScore</th>\n",
              "      <th>Geography</th>\n",
              "      <th>Gender</th>\n",
              "      <th>Age</th>\n",
              "      <th>Tenure</th>\n",
              "      <th>Balance</th>\n",
              "      <th>NumOfProducts</th>\n",
              "      <th>HasCrCard</th>\n",
              "      <th>IsActiveMember</th>\n",
              "      <th>EstimatedSalary</th>\n",
              "      <th>Exited</th>\n",
              "    </tr>\n",
              "  </thead>\n",
              "  <tbody>\n",
              "    <tr>\n",
              "      <th>0</th>\n",
              "      <td>1</td>\n",
              "      <td>15634602</td>\n",
              "      <td>Hargrave</td>\n",
              "      <td>619</td>\n",
              "      <td>France</td>\n",
              "      <td>Female</td>\n",
              "      <td>42</td>\n",
              "      <td>2</td>\n",
              "      <td>0.00</td>\n",
              "      <td>1</td>\n",
              "      <td>1</td>\n",
              "      <td>1</td>\n",
              "      <td>101348.88</td>\n",
              "      <td>1</td>\n",
              "    </tr>\n",
              "    <tr>\n",
              "      <th>1</th>\n",
              "      <td>2</td>\n",
              "      <td>15647311</td>\n",
              "      <td>Hill</td>\n",
              "      <td>608</td>\n",
              "      <td>Spain</td>\n",
              "      <td>Female</td>\n",
              "      <td>41</td>\n",
              "      <td>1</td>\n",
              "      <td>83807.86</td>\n",
              "      <td>1</td>\n",
              "      <td>0</td>\n",
              "      <td>1</td>\n",
              "      <td>112542.58</td>\n",
              "      <td>0</td>\n",
              "    </tr>\n",
              "    <tr>\n",
              "      <th>2</th>\n",
              "      <td>3</td>\n",
              "      <td>15619304</td>\n",
              "      <td>Onio</td>\n",
              "      <td>502</td>\n",
              "      <td>France</td>\n",
              "      <td>Female</td>\n",
              "      <td>42</td>\n",
              "      <td>8</td>\n",
              "      <td>159660.80</td>\n",
              "      <td>3</td>\n",
              "      <td>1</td>\n",
              "      <td>0</td>\n",
              "      <td>113931.57</td>\n",
              "      <td>1</td>\n",
              "    </tr>\n",
              "    <tr>\n",
              "      <th>3</th>\n",
              "      <td>4</td>\n",
              "      <td>15701354</td>\n",
              "      <td>Boni</td>\n",
              "      <td>699</td>\n",
              "      <td>France</td>\n",
              "      <td>Female</td>\n",
              "      <td>39</td>\n",
              "      <td>1</td>\n",
              "      <td>0.00</td>\n",
              "      <td>2</td>\n",
              "      <td>0</td>\n",
              "      <td>0</td>\n",
              "      <td>93826.63</td>\n",
              "      <td>0</td>\n",
              "    </tr>\n",
              "    <tr>\n",
              "      <th>4</th>\n",
              "      <td>5</td>\n",
              "      <td>15737888</td>\n",
              "      <td>Mitchell</td>\n",
              "      <td>850</td>\n",
              "      <td>Spain</td>\n",
              "      <td>Female</td>\n",
              "      <td>43</td>\n",
              "      <td>2</td>\n",
              "      <td>125510.82</td>\n",
              "      <td>1</td>\n",
              "      <td>1</td>\n",
              "      <td>1</td>\n",
              "      <td>79084.10</td>\n",
              "      <td>0</td>\n",
              "    </tr>\n",
              "  </tbody>\n",
              "</table>\n",
              "</div>"
            ],
            "text/plain": [
              "   RowNumber  CustomerId   Surname  ...  IsActiveMember EstimatedSalary Exited\n",
              "0          1    15634602  Hargrave  ...               1       101348.88      1\n",
              "1          2    15647311      Hill  ...               1       112542.58      0\n",
              "2          3    15619304      Onio  ...               0       113931.57      1\n",
              "3          4    15701354      Boni  ...               0        93826.63      0\n",
              "4          5    15737888  Mitchell  ...               1        79084.10      0\n",
              "\n",
              "[5 rows x 14 columns]"
            ]
          },
          "metadata": {
            "tags": []
          },
          "execution_count": 5
        }
      ]
    },
    {
      "cell_type": "markdown",
      "metadata": {
        "id": "ZDgdRJK6XuKO",
        "colab_type": "text"
      },
      "source": [
        "# DATA VISUALITATION\n",
        "\n",
        "---\n",
        "\n",
        "\n",
        "\n",
        "---\n",
        "\n"
      ]
    },
    {
      "cell_type": "code",
      "metadata": {
        "id": "jeXFCyt85PDJ",
        "colab_type": "code",
        "colab": {
          "base_uri": "https://localhost:8080/",
          "height": 441
        },
        "outputId": "cf86301d-e45f-47a9-e5e0-e9f43b81b048"
      },
      "source": [
        "# 0 implies False value => That is those who have not exited.\n",
        "bins = np.linspace(dataset.Age.min(), dataset.Age.max(),10)\n",
        "g = sns.FacetGrid(dataset, col=\"Geography\", row=\"Gender\", hue=\"Exited\", palette=\"Set1\",sharex=False, legend_out=False)\n",
        "g.map(plt.hist, 'Age', bins=bins, ec=\"k\")\n",
        "g.set_ylabels(\"No. of people\")\n",
        "g.add_legend()\n",
        "plt.show()"
      ],
      "execution_count": 6,
      "outputs": [
        {
          "output_type": "display_data",
          "data": {
            "image/png": "[encoded data removed]",
            "text/plain": [
              "<Figure size 648x432 with 6 Axes>"
            ]
          },
          "metadata": {
            "tags": [],
            "needs_background": "light"
          }
        }
      ]
    },
    {
      "cell_type": "code",
      "metadata": {
        "id": "myevStodYl_p",
        "colab_type": "code",
        "colab": {
          "base_uri": "https://localhost:8080/",
          "height": 441
        },
        "outputId": "2bafb218-a8b6-4ccc-baf0-f12aac904399"
      },
      "source": [
        "bins = np.linspace(dataset.Balance.min(), dataset.Balance.max(),10)\n",
        "g = sns.FacetGrid(dataset, col=\"Geography\", row=\"Gender\", hue=\"Exited\", palette=\"Set1\",sharex=False, legend_out=False)\n",
        "g.map(plt.hist, 'Balance', bins=bins, ec=\"k\")\n",
        "g.set_ylabels(\"No. of people\")\n",
        "g.add_legend()\n",
        "plt.show()"
      ],
      "execution_count": 7,
      "outputs": [
        {
          "output_type": "display_data",
          "data": {
            "image/png": "[encoded data removed]",
            "text/plain": [
              "<Figure size 648x432 with 6 Axes>"
            ]
          },
          "metadata": {
            "tags": [],
            "needs_background": "light"
          }
        }
      ]
    },
    {
      "cell_type": "markdown",
      "metadata": {
        "id": "bIWX1LEsVgyt",
        "colab_type": "text"
      },
      "source": [
        "**Brief description about above plot:**\n",
        "In the above plots we have used the FaceGrid Function to plot the relation between -\n",
        "\n",
        "**Plot 1:** Age and No. of people who have either exited*(in red)* and those who have not*(in blue)*.\n",
        "\n",
        "**Plot 2:** Balance and No. of people who have either exited*(in red)* and those who have not*(in blue)*.\n",
        "\n",
        "These plots are separated on the basis of Gender and Geography.\n",
        "\n",
        "> **From the above plots it is evident that**: overall people exited are in age group of 40-60 years.\n",
        "\n",
        "\n",
        "\n",
        "\n",
        "---\n",
        "\n",
        "\n",
        "\n",
        "---\n",
        "\n",
        "\n"
      ]
    },
    {
      "cell_type": "markdown",
      "metadata": {
        "id": "raGkp14lf0kZ",
        "colab_type": "text"
      },
      "source": [
        "# Conversion of categorical data to numerical data\n",
        "Geography and gender are categorical type data.\n",
        " Geography contains 3 different type: *'France', 'Germnay', 'Spain'.*\n",
        " Gender has two types : 'Male' & 'Female'.\n",
        "\n",
        "Let us convert them into Numerical data via mapping it to a dictionary."
      ]
    },
    {
      "cell_type": "code",
      "metadata": {
        "id": "CtT-VT4AgeVK",
        "colab_type": "code",
        "colab": {
          "base_uri": "https://localhost:8080/",
          "height": 224
        },
        "outputId": "d5cf83be-8b2c-4d90-a120-21f382aa7885"
      },
      "source": [
        "dataset['Geography'] = dataset['Geography'].map({'France':1,'Germany':2,'Spain':3}) \n",
        "dataset['Gender'].replace(to_replace=['Male','Female'], value=[0,1],inplace=True)\n",
        "#Both method can be used to execute the action.\n",
        "dataset.head()"
      ],
      "execution_count": 8,
      "outputs": [
        {
          "output_type": "execute_result",
          "data": {
            "text/html": [
              "<div>\n",
              "<style scoped>\n",
              "    .dataframe tbody tr th:only-of-type {\n",
              "        vertical-align: middle;\n",
              "    }\n",
              "\n",
              "    .dataframe tbody tr th {\n",
              "        vertical-align: top;\n",
              "    }\n",
              "\n",
              "    .dataframe thead th {\n",
              "        text-align: right;\n",
              "    }\n",
              "</style>\n",
              "<table border=\"1\" class=\"dataframe\">\n",
              "  <thead>\n",
              "    <tr style=\"text-align: right;\">\n",
              "      <th></th>\n",
              "      <th>RowNumber</th>\n",
              "      <th>CustomerId</th>\n",
              "      <th>Surname</th>\n",
              "      <th>CreditScore</th>\n",
              "      <th>Geography</th>\n",
              "      <th>Gender</th>\n",
              "      <th>Age</th>\n",
              "      <th>Tenure</th>\n",
              "      <th>Balance</th>\n",
              "      <th>NumOfProducts</th>\n",
              "      <th>HasCrCard</th>\n",
              "      <th>IsActiveMember</th>\n",
              "      <th>EstimatedSalary</th>\n",
              "      <th>Exited</th>\n",
              "    </tr>\n",
              "  </thead>\n",
              "  <tbody>\n",
              "    <tr>\n",
              "      <th>0</th>\n",
              "      <td>1</td>\n",
              "      <td>15634602</td>\n",
              "      <td>Hargrave</td>\n",
              "      <td>619</td>\n",
              "      <td>1</td>\n",
              "      <td>1</td>\n",
              "      <td>42</td>\n",
              "      <td>2</td>\n",
              "      <td>0.00</td>\n",
              "      <td>1</td>\n",
              "      <td>1</td>\n",
              "      <td>1</td>\n",
              "      <td>101348.88</td>\n",
              "      <td>1</td>\n",
              "    </tr>\n",
              "    <tr>\n",
              "      <th>1</th>\n",
              "      <td>2</td>\n",
              "      <td>15647311</td>\n",
              "      <td>Hill</td>\n",
              "      <td>608</td>\n",
              "      <td>3</td>\n",
              "      <td>1</td>\n",
              "      <td>41</td>\n",
              "      <td>1</td>\n",
              "      <td>83807.86</td>\n",
              "      <td>1</td>\n",
              "      <td>0</td>\n",
              "      <td>1</td>\n",
              "      <td>112542.58</td>\n",
              "      <td>0</td>\n",
              "    </tr>\n",
              "    <tr>\n",
              "      <th>2</th>\n",
              "      <td>3</td>\n",
              "      <td>15619304</td>\n",
              "      <td>Onio</td>\n",
              "      <td>502</td>\n",
              "      <td>1</td>\n",
              "      <td>1</td>\n",
              "      <td>42</td>\n",
              "      <td>8</td>\n",
              "      <td>159660.80</td>\n",
              "      <td>3</td>\n",
              "      <td>1</td>\n",
              "      <td>0</td>\n",
              "      <td>113931.57</td>\n",
              "      <td>1</td>\n",
              "    </tr>\n",
              "    <tr>\n",
              "      <th>3</th>\n",
              "      <td>4</td>\n",
              "      <td>15701354</td>\n",
              "      <td>Boni</td>\n",
              "      <td>699</td>\n",
              "      <td>1</td>\n",
              "      <td>1</td>\n",
              "      <td>39</td>\n",
              "      <td>1</td>\n",
              "      <td>0.00</td>\n",
              "      <td>2</td>\n",
              "      <td>0</td>\n",
              "      <td>0</td>\n",
              "      <td>93826.63</td>\n",
              "      <td>0</td>\n",
              "    </tr>\n",
              "    <tr>\n",
              "      <th>4</th>\n",
              "      <td>5</td>\n",
              "      <td>15737888</td>\n",
              "      <td>Mitchell</td>\n",
              "      <td>850</td>\n",
              "      <td>3</td>\n",
              "      <td>1</td>\n",
              "      <td>43</td>\n",
              "      <td>2</td>\n",
              "      <td>125510.82</td>\n",
              "      <td>1</td>\n",
              "      <td>1</td>\n",
              "      <td>1</td>\n",
              "      <td>79084.10</td>\n",
              "      <td>0</td>\n",
              "    </tr>\n",
              "  </tbody>\n",
              "</table>\n",
              "</div>"
            ],
            "text/plain": [
              "   RowNumber  CustomerId   Surname  ...  IsActiveMember  EstimatedSalary  Exited\n",
              "0          1    15634602  Hargrave  ...               1        101348.88       1\n",
              "1          2    15647311      Hill  ...               1        112542.58       0\n",
              "2          3    15619304      Onio  ...               0        113931.57       1\n",
              "3          4    15701354      Boni  ...               0         93826.63       0\n",
              "4          5    15737888  Mitchell  ...               1         79084.10       0\n",
              "\n",
              "[5 rows x 14 columns]"
            ]
          },
          "metadata": {
            "tags": []
          },
          "execution_count": 8
        }
      ]
    },
    {
      "cell_type": "markdown",
      "metadata": {
        "id": "d1N79DAvYjzp",
        "colab_type": "text"
      },
      "source": [
        "# Feature selection/extraction\n",
        "\n",
        "---\n",
        "\n",
        "\n",
        "\n",
        "---\n",
        "\n"
      ]
    },
    {
      "cell_type": "code",
      "metadata": {
        "id": "s1Zo8zzxYl94",
        "colab_type": "code",
        "colab": {
          "base_uri": "https://localhost:8080/",
          "height": 235
        },
        "outputId": "49e952be-fb07-4988-9c55-a00b04f91ff3"
      },
      "source": [
        "X = dataset[['CreditScore','Geography','Gender','Age','Tenure','Balance','NumOfProducts','HasCrCard','EstimatedSalary']]\n",
        "X[0:6]"
      ],
      "execution_count": 9,
      "outputs": [
        {
          "output_type": "execute_result",
          "data": {
            "text/html": [
              "<div>\n",
              "<style scoped>\n",
              "    .dataframe tbody tr th:only-of-type {\n",
              "        vertical-align: middle;\n",
              "    }\n",
              "\n",
              "    .dataframe tbody tr th {\n",
              "        vertical-align: top;\n",
              "    }\n",
              "\n",
              "    .dataframe thead th {\n",
              "        text-align: right;\n",
              "    }\n",
              "</style>\n",
              "<table border=\"1\" class=\"dataframe\">\n",
              "  <thead>\n",
              "    <tr style=\"text-align: right;\">\n",
              "      <th></th>\n",
              "      <th>CreditScore</th>\n",
              "      <th>Geography</th>\n",
              "      <th>Gender</th>\n",
              "      <th>Age</th>\n",
              "      <th>Tenure</th>\n",
              "      <th>Balance</th>\n",
              "      <th>NumOfProducts</th>\n",
              "      <th>HasCrCard</th>\n",
              "      <th>EstimatedSalary</th>\n",
              "    </tr>\n",
              "  </thead>\n",
              "  <tbody>\n",
              "    <tr>\n",
              "      <th>0</th>\n",
              "      <td>619</td>\n",
              "      <td>1</td>\n",
              "      <td>1</td>\n",
              "      <td>42</td>\n",
              "      <td>2</td>\n",
              "      <td>0.00</td>\n",
              "      <td>1</td>\n",
              "      <td>1</td>\n",
              "      <td>101348.88</td>\n",
              "    </tr>\n",
              "    <tr>\n",
              "      <th>1</th>\n",
              "      <td>608</td>\n",
              "      <td>3</td>\n",
              "      <td>1</td>\n",
              "      <td>41</td>\n",
              "      <td>1</td>\n",
              "      <td>83807.86</td>\n",
              "      <td>1</td>\n",
              "      <td>0</td>\n",
              "      <td>112542.58</td>\n",
              "    </tr>\n",
              "    <tr>\n",
              "      <th>2</th>\n",
              "      <td>502</td>\n",
              "      <td>1</td>\n",
              "      <td>1</td>\n",
              "      <td>42</td>\n",
              "      <td>8</td>\n",
              "      <td>159660.80</td>\n",
              "      <td>3</td>\n",
              "      <td>1</td>\n",
              "      <td>113931.57</td>\n",
              "    </tr>\n",
              "    <tr>\n",
              "      <th>3</th>\n",
              "      <td>699</td>\n",
              "      <td>1</td>\n",
              "      <td>1</td>\n",
              "      <td>39</td>\n",
              "      <td>1</td>\n",
              "      <td>0.00</td>\n",
              "      <td>2</td>\n",
              "      <td>0</td>\n",
              "      <td>93826.63</td>\n",
              "    </tr>\n",
              "    <tr>\n",
              "      <th>4</th>\n",
              "      <td>850</td>\n",
              "      <td>3</td>\n",
              "      <td>1</td>\n",
              "      <td>43</td>\n",
              "      <td>2</td>\n",
              "      <td>125510.82</td>\n",
              "      <td>1</td>\n",
              "      <td>1</td>\n",
              "      <td>79084.10</td>\n",
              "    </tr>\n",
              "    <tr>\n",
              "      <th>5</th>\n",
              "      <td>645</td>\n",
              "      <td>3</td>\n",
              "      <td>0</td>\n",
              "      <td>44</td>\n",
              "      <td>8</td>\n",
              "      <td>113755.78</td>\n",
              "      <td>2</td>\n",
              "      <td>1</td>\n",
              "      <td>149756.71</td>\n",
              "    </tr>\n",
              "  </tbody>\n",
              "</table>\n",
              "</div>"
            ],
            "text/plain": [
              "   CreditScore  Geography  Gender  ...  NumOfProducts  HasCrCard  EstimatedSalary\n",
              "0          619          1       1  ...              1          1        101348.88\n",
              "1          608          3       1  ...              1          0        112542.58\n",
              "2          502          1       1  ...              3          1        113931.57\n",
              "3          699          1       1  ...              2          0         93826.63\n",
              "4          850          3       1  ...              1          1         79084.10\n",
              "5          645          3       0  ...              2          1        149756.71\n",
              "\n",
              "[6 rows x 9 columns]"
            ]
          },
          "metadata": {
            "tags": []
          },
          "execution_count": 9
        }
      ]
    },
    {
      "cell_type": "code",
      "metadata": {
        "id": "Fim-i_E2Yl6X",
        "colab_type": "code",
        "colab": {
          "base_uri": "https://localhost:8080/",
          "height": 34
        },
        "outputId": "dd322458-8f16-4509-bcff-064ba6f76d85"
      },
      "source": [
        "Y = dataset['Exited'].values\n",
        "Y[0:5]\n"
      ],
      "execution_count": 10,
      "outputs": [
        {
          "output_type": "execute_result",
          "data": {
            "text/plain": [
              "array([1, 0, 1, 0, 0])"
            ]
          },
          "metadata": {
            "tags": []
          },
          "execution_count": 10
        }
      ]
    },
    {
      "cell_type": "markdown",
      "metadata": {
        "id": "W-T6i3Ryf082",
        "colab_type": "text"
      },
      "source": [
        "# [Pre-processing](https://en.wikipedia.org/wiki/Data_pre-processing)\n",
        "\n",
        "---\n",
        " \n",
        "> The data is normalised i.e. centered and scaled, the mean and standard deviation is calculated and then the values are standarized according to them. It helps in ranging data such that one value doesnot lead to malfunction of the classifier such as KNN or SVM.\n",
        "\n"
      ]
    },
    {
      "cell_type": "code",
      "metadata": {
        "id": "einsLFDygTPU",
        "colab_type": "code",
        "colab": {
          "base_uri": "https://localhost:8080/",
          "height": 187
        },
        "outputId": "d5e912f2-2b00-4059-958e-82c02ac9265e"
      },
      "source": [
        "from sklearn import preprocessing\n",
        "X = preprocessing.StandardScaler().fit(X).transform(X)\n",
        "X[0:5]\n"
      ],
      "execution_count": 11,
      "outputs": [
        {
          "output_type": "execute_result",
          "data": {
            "text/plain": [
              "array([[-0.32622142, -0.90188624,  1.09598752,  0.29351742, -1.04175968,\n",
              "        -1.22584767, -0.91158349,  0.64609167,  0.02188649],\n",
              "       [-0.44003595,  1.51506738,  1.09598752,  0.19816383, -1.38753759,\n",
              "         0.11735002, -0.91158349, -1.54776799,  0.21653375],\n",
              "       [-1.53679418, -0.90188624,  1.09598752,  0.29351742,  1.03290776,\n",
              "         1.33305335,  2.52705662,  0.64609167,  0.2406869 ],\n",
              "       [ 0.50152063, -0.90188624,  1.09598752,  0.00745665, -1.38753759,\n",
              "        -1.22584767,  0.80773656, -1.54776799, -0.10891792],\n",
              "       [ 2.06388377,  1.51506738,  1.09598752,  0.38887101, -1.04175968,\n",
              "         0.7857279 , -0.91158349,  0.64609167, -0.36527578]])"
            ]
          },
          "metadata": {
            "tags": []
          },
          "execution_count": 11
        }
      ]
    },
    {
      "cell_type": "markdown",
      "metadata": {
        "id": "knEi-0lvhvbX",
        "colab_type": "text"
      },
      "source": [
        "# Data test train split\n",
        "\n",
        "\n",
        "---\n",
        "\n",
        "One way is to use an evaluation approach called Train/Test Split. Train/Test Split involves splitting the dataset into training and testing sets respectively, which are mutually exclusive. After which, you train with the training set and test with the testing set.\n",
        "\n",
        "This will provide a more accurate evaluation on out-of-sample accuracy because the testing dataset is not part of the dataset that have been used to train the data. It is more realistic for real world problems.\n",
        "\n",
        "**Out of Sample Accuracy**: is the percentage of correct predictions that the model makes on data that that the model has NOT been trained on."
      ]
    },
    {
      "cell_type": "code",
      "metadata": {
        "id": "J8SjpR2Pz-W_",
        "colab_type": "code",
        "colab": {
          "base_uri": "https://localhost:8080/",
          "height": 51
        },
        "outputId": "cd72a96a-f47f-46ff-df86-de8b341079e7"
      },
      "source": [
        "from sklearn.model_selection import train_test_split\n",
        "X_train, X_test, Y_train, Y_test = train_test_split(X,Y,test_size = 0.2, random_state = 4) # Test size gives the percentage of data which will be kept for testing.\n",
        "\n",
        "print ('Train set:', X_train.shape,  Y_train.shape)\n",
        "print ('Test set:', X_test.shape,  Y_test.shape) # Out of sample data."
      ],
      "execution_count": 12,
      "outputs": [
        {
          "output_type": "stream",
          "text": [
            "Train set: (8000, 9) (8000,)\n",
            "Test set: (2000, 9) (2000,)\n"
          ],
          "name": "stdout"
        }
      ]
    },
    {
      "cell_type": "markdown",
      "metadata": {
        "id": "AjtcUk_wFdwB",
        "colab_type": "text"
      },
      "source": [
        "# Classification \n",
        "\n",
        "\n",
        "---\n",
        "\n",
        "\n",
        "\n",
        "---\n",
        "\n"
      ]
    },
    {
      "cell_type": "code",
      "metadata": {
        "id": "Al4QiajBFibC",
        "colab_type": "code",
        "colab": {}
      },
      "source": [
        "lst_clf_jacc = []\n",
        "lst_clf_name = [] # To store the best accuracy and the name of the classifier respectively"
      ],
      "execution_count": 78,
      "outputs": []
    },
    {
      "cell_type": "markdown",
      "metadata": {
        "id": "_wOLJkm0l85H",
        "colab_type": "text"
      },
      "source": [
        "##  <h1 align = \"center\">1) Logistic Regression</h1>\n",
        "---\n",
        "\n"
      ]
    },
    {
      "cell_type": "code",
      "metadata": {
        "id": "AUI06puK0vzb",
        "colab_type": "code",
        "colab": {
          "base_uri": "https://localhost:8080/",
          "height": 102
        },
        "outputId": "fba2e099-fd4e-4ba5-cc1a-61bd92b97a49"
      },
      "source": [
        "from sklearn.linear_model import LogisticRegression\n",
        "from sklearn.metrics import jaccard_similarity_score\n",
        "solver_dict = {0:\"newton-cg\", 1:\"lbfgs\", 2:\"sag\", 3:\"saga\",4:\"liblinear\"}\n",
        "for i in range(0,5):\n",
        "  lgr = LogisticRegression(C=0.01,solver=solver_dict[i])\n",
        "  Model_Lgr = lgr.fit(X_train,Y_train) # This fits the value and creates a model ready to predict.\n",
        "  Y_hat = Model_Lgr.predict(X_test)\n",
        "  print(\"Jaccard Accuracy for \",solver_dict[i],\"is\",jaccard_similarity_score(Y_test, Y_hat))"
      ],
      "execution_count": 13,
      "outputs": [
        {
          "output_type": "stream",
          "text": [
            "Jaccard Accuracy for  newton-cg is 0.791\n",
            "Jaccard Accuracy for  lbfgs is 0.791\n",
            "Jaccard Accuracy for  sag is 0.791\n",
            "Jaccard Accuracy for  saga is 0.791\n",
            "Jaccard Accuracy for  liblinear is 0.7895\n"
          ],
          "name": "stdout"
        }
      ]
    },
    {
      "cell_type": "code",
      "metadata": {
        "id": "zg8cT1bwF0_2",
        "colab_type": "code",
        "colab": {}
      },
      "source": [
        "lst_clf_jacc.append(0.791)\n",
        "lst_clf_name.append('Logistic Regression')"
      ],
      "execution_count": 79,
      "outputs": []
    },
    {
      "cell_type": "markdown",
      "metadata": {
        "id": "dQoHGQCIpGdn",
        "colab_type": "text"
      },
      "source": [
        "The accuracy is constant for all solver types, but in case of liblinear the accuracy decreaeses."
      ]
    },
    {
      "cell_type": "code",
      "metadata": {
        "id": "8qAtO_Shl1ME",
        "colab_type": "code",
        "colab": {
          "base_uri": "https://localhost:8080/",
          "height": 204
        },
        "outputId": "ae188f71-e71d-4db7-ced1-25e7fa546c65"
      },
      "source": [
        "# Thus Evaluating the Classification report of LOgistic Regression model using 'newton-cg'\n",
        "from sklearn.metrics import classification_report, accuracy_score\n",
        "CLF = LogisticRegression(C=0.01,solver=\"newton-cg\")\n",
        "model_lgr = CLF.fit(X_train,Y_train)\n",
        "print (classification_report(Y_test,model_lgr.predict(X_test)))\n",
        "print(\"In sample/Train set Accuracy: \", accuracy_score(Y_train, model_lgr.predict(X_train)))\n",
        "print(\"Out of sample accuracy :\",accuracy_score(Y_test,model_lgr.predict(X_test)))\n"
      ],
      "execution_count": 42,
      "outputs": [
        {
          "output_type": "stream",
          "text": [
            "              precision    recall  f1-score   support\n",
            "\n",
            "           0       0.81      0.97      0.88      1604\n",
            "           1       0.35      0.07      0.11       396\n",
            "\n",
            "    accuracy                           0.79      2000\n",
            "   macro avg       0.58      0.52      0.50      2000\n",
            "weighted avg       0.72      0.79      0.73      2000\n",
            "\n",
            "In sample/Train set Accuracy:  0.786\n",
            "Out of sample accuracy : 79.10000000000001\n"
          ],
          "name": "stdout"
        }
      ]
    },
    {
      "cell_type": "markdown",
      "metadata": {
        "id": "jRvP2GDa3SZL",
        "colab_type": "text"
      },
      "source": [
        "#  <h1 align = \"center\">2) Random Forest </h1>\n",
        "\n",
        "---\n",
        "\n"
      ]
    },
    {
      "cell_type": "code",
      "metadata": {
        "id": "32YCc2aG3RxL",
        "colab_type": "code",
        "colab": {}
      },
      "source": [
        "from sklearn.ensemble import RandomForestClassifier as RFC\n",
        "clf= RFC(n_estimators = 500,min_samples_leaf = 50,random_state = 4) # parameters are set to get the best accuracy\n",
        "model_RF = clf.fit(X_train,Y_train)"
      ],
      "execution_count": 39,
      "outputs": []
    },
    {
      "cell_type": "code",
      "metadata": {
        "id": "svwwFY-i3R8z",
        "colab_type": "code",
        "colab": {
          "base_uri": "https://localhost:8080/",
          "height": 68
        },
        "outputId": "cb8795fe-51f1-4474-d5b8-ddfc6c0602ab"
      },
      "source": [
        "Y_hat = model_RF.predict(X_test)\n",
        "print(\"In sample/Train set Accuracy: \", accuracy_score(Y_train, model_RF.predict(X_train)))\n",
        "print(\"Out of sample/Test set Accuracy: \",accuracy_score(Y_test, Y_hat))\n",
        "\n",
        "print(\"Jaccard Accuracy is\",jaccard_similarity_score(Y_test, Y_hat))"
      ],
      "execution_count": 71,
      "outputs": [
        {
          "output_type": "stream",
          "text": [
            "In sample/Train set Accuracy:  0.855375\n",
            "Out of sample/Test set Accuracy:  0.863\n",
            "Jaccard Accuracy is 0.863\n"
          ],
          "name": "stdout"
        }
      ]
    },
    {
      "cell_type": "code",
      "metadata": {
        "id": "CEZ3CtlKGcOZ",
        "colab_type": "code",
        "colab": {}
      },
      "source": [
        "lst_clf_jacc.append(0.863)\n",
        "lst_clf_name.append('Random Forest')"
      ],
      "execution_count": 80,
      "outputs": []
    },
    {
      "cell_type": "markdown",
      "metadata": {
        "id": "Ii0wcusF_MwL",
        "colab_type": "text"
      },
      "source": [
        "Visualization of the Random Forest Tree structure is not feasible as we are more concerned with churn classification. In its context the accuracyis found to be : 0.863"
      ]
    },
    {
      "cell_type": "markdown",
      "metadata": {
        "id": "V6Qdhf7ay7m_",
        "colab_type": "text"
      },
      "source": [
        "# 3) <h1 align = \"center\"> K nearest neighbors </h1> \n",
        "\n",
        "---\n",
        "\n",
        "\n",
        "\n"
      ]
    },
    {
      "cell_type": "code",
      "metadata": {
        "id": "LzgMYCB-mNML",
        "colab_type": "code",
        "colab": {}
      },
      "source": [
        "from sklearn.neighbors import KNeighborsClassifier as kn\n",
        "# Lets start with k = 4 \n",
        "k = 4\n",
        "clf = kn(n_neighbors = k )\n",
        "model_knn = clf.fit(X_train,Y_train)"
      ],
      "execution_count": 18,
      "outputs": []
    },
    {
      "cell_type": "code",
      "metadata": {
        "id": "9AxqJiyE1mYh",
        "colab_type": "code",
        "colab": {
          "base_uri": "https://localhost:8080/",
          "height": 51
        },
        "outputId": "d72e901d-c603-4e07-eb0d-eaa5a079763c"
      },
      "source": [
        "Y_hat = model_knn.predict(X_test)\n",
        "Y_hat[0:5]\n",
        "print(\"In sample/Train set Accuracy: \", accuracy_score(Y_train, model_knn.predict(X_train)))\n",
        "print(\"Out of sample/Test set Accuracy: \",accuracy_score(Y_test, Y_hat))"
      ],
      "execution_count": 21,
      "outputs": [
        {
          "output_type": "stream",
          "text": [
            "In sample/ Train set Accuracy:  0.87075\n",
            "Out of sample/ Test set Accuracy:  0.8365\n"
          ],
          "name": "stdout"
        }
      ]
    },
    {
      "cell_type": "markdown",
      "metadata": {
        "id": "KgYPcuHg1Pt_",
        "colab_type": "text"
      },
      "source": [
        "Well we have predicted the class labels on the test set and got the accuracy to be : 0.83. But what about other values of k There may be a value of k for which we can get better accuracy."
      ]
    },
    {
      "cell_type": "code",
      "metadata": {
        "id": "mY35J5eD2zfn",
        "colab_type": "code",
        "colab": {}
      },
      "source": [
        "def k_model_acc(K):\n",
        "    mean_acc = np.zeros((K)) # Creates an null array of shape : (10,)  \n",
        "    mean_jacc = np.zeros((K))\n",
        "    \n",
        "    for n in range(1,K+1):\n",
        "        #Train Model and Predict  \n",
        "        Model = kn(n_neighbors = n).fit(X_train,Y_train)\n",
        "        y_hat=Model.predict(X_test)\n",
        "        mean_acc[n-1] = accuracy_score(Y_test, y_hat)\n",
        "        mean_jacc[n-1] = jaccard_similarity_score(Y_test, y_hat)\n",
        "        print(\"Jaccard Accuracy for k = \",n,\"is\",jaccard_similarity_score(Y_test, y_hat))\n",
        "    return mean_acc,mean_jacc\n",
        "\n",
        "def acc_show(K,mean_acc):\n",
        "    plt.plot(range(1,K+1),mean_acc,'r')\n",
        "    plt.legend(('Accuracy '))\n",
        "    plt.ylabel('Accuracy ')\n",
        "    plt.xlabel('Number of Neighbours (K)')\n",
        "    plt.show()\n",
        "\n",
        "def jacc_show(K,mean_jacc):\n",
        "    plt.plot(range(1,K+1),mean_jacc,'g')\n",
        "    plt.legend(('Accuracy '))\n",
        "    plt.ylabel('Accuracy ')\n",
        "    plt.xlabel('Number of Neighbours (K)')\n",
        "    plt.show()"
      ],
      "execution_count": 67,
      "outputs": []
    },
    {
      "cell_type": "code",
      "metadata": {
        "id": "OZzu1Nqs1e9m",
        "colab_type": "code",
        "colab": {
          "base_uri": "https://localhost:8080/",
          "height": 796
        },
        "outputId": "e68d074e-c817-46c5-91b4-ac2bec0e8e13"
      },
      "source": [
        "k = int(input(\"Enter the max value of k = \"))\n",
        "p = k_model_acc(k) \n",
        "acc_show(k,p[0])\n",
        "jacc_show(k,p[1])\n",
        "print( \"The best accuracy was with\", p[0].max(), \"with k=\", p[0].argmax()+1)\n",
        "print( \"The best jaccard accuracy was with\", p[1].max(), \"with k=\", p[1].argmax()+1)\n"
      ],
      "execution_count": 70,
      "outputs": [
        {
          "output_type": "stream",
          "text": [
            "Enter the max value of k = 12\n",
            "Jaccard Accuracy for k =  1 is 0.8005\n",
            "Jaccard Accuracy for k =  2 is 0.8275\n",
            "Jaccard Accuracy for k =  3 is 0.826\n",
            "Jaccard Accuracy for k =  4 is 0.8365\n",
            "Jaccard Accuracy for k =  5 is 0.8335\n",
            "Jaccard Accuracy for k =  6 is 0.8345\n",
            "Jaccard Accuracy for k =  7 is 0.84\n",
            "Jaccard Accuracy for k =  8 is 0.841\n",
            "Jaccard Accuracy for k =  9 is 0.842\n",
            "Jaccard Accuracy for k =  10 is 0.8395\n",
            "Jaccard Accuracy for k =  11 is 0.845\n",
            "Jaccard Accuracy for k =  12 is 0.8445\n"
          ],
          "name": "stdout"
        },
        {
          "output_type": "display_data",
          "data": {
            "image/png": "[encoded data removed]",
            "text/plain": [
              "<Figure size 432x288 with 1 Axes>"
            ]
          },
          "metadata": {
            "tags": [],
            "needs_background": "light"
          }
        },
        {
          "output_type": "display_data",
          "data": {
            "image/png": "[encoded data removed]",
            "text/plain": [
              "<Figure size 432x288 with 1 Axes>"
            ]
          },
          "metadata": {
            "tags": [],
            "needs_background": "light"
          }
        },
        {
          "output_type": "stream",
          "text": [
            "The best accuracy was with 0.845 with k= 11\n",
            "The best jaccard accuracy was with 0.845 with k= 11\n"
          ],
          "name": "stdout"
        }
      ]
    },
    {
      "cell_type": "code",
      "metadata": {
        "id": "GpUCTbHpGj2S",
        "colab_type": "code",
        "colab": {}
      },
      "source": [
        "lst_clf_jacc.append(0.845)\n",
        "lst_clf_name.append('K nearest neighnors k = 11')"
      ],
      "execution_count": 81,
      "outputs": []
    },
    {
      "cell_type": "markdown",
      "metadata": {
        "id": "zAW-xRk02Wpj",
        "colab_type": "text"
      },
      "source": [
        "From the above plot, we can evaluate that for k =11 we get the maximum out of sample accuracy.\n",
        "\n",
        "> This implies that the clasifier is evaluating 11 nearest neighbours to predict the category that will a person will exit the services next month or not.\n",
        "\n"
      ]
    },
    {
      "cell_type": "markdown",
      "metadata": {
        "id": "4hKQBcfu3Jfy",
        "colab_type": "text"
      },
      "source": [
        "# 4) <h1 align = \"center\"> Support Vector Machine</h1> \n",
        "\n",
        "---\n",
        "\n",
        "\n",
        "\n"
      ]
    },
    {
      "cell_type": "code",
      "metadata": {
        "id": "ZkHHaI_l1fW7",
        "colab_type": "code",
        "colab": {}
      },
      "source": [
        "from sklearn import svm\n",
        "from sklearn.metrics import f1_score # f1 score card"
      ],
      "execution_count": 53,
      "outputs": []
    },
    {
      "cell_type": "markdown",
      "metadata": {
        "id": "oqzowdhKBEYv",
        "colab_type": "text"
      },
      "source": [
        "We will be evaluating all the different kernels to find out the best fits:\n"
      ]
    },
    {
      "cell_type": "code",
      "metadata": {
        "id": "JBoxmOsz1fZr",
        "colab_type": "code",
        "colab": {
          "base_uri": "https://localhost:8080/",
          "height": 85
        },
        "outputId": "3a5a9f76-f195-463e-e44e-efb4aecb7d39"
      },
      "source": [
        "y_hat = np.zeros(len(Y_train))\n",
        "ker = {1:'rbf',2:'linear',3:'poly', 4:'sigmoid'}\n",
        "for i in range(1,5):\n",
        "    clf = svm.SVC(kernel=ker[i] )\n",
        "    model = clf.fit(X_train, Y_train)\n",
        "    y_hat = model.predict(X_test)\n",
        "    print(\"Jaccard Accuracy for \",ker[i],\"is\",jaccard_similarity_score(Y_test, y_hat))"
      ],
      "execution_count": 57,
      "outputs": [
        {
          "output_type": "stream",
          "text": [
            "Jaccard Accuracy for  rbf is 0.854\n",
            "Jaccard Accuracy for  linear is 0.802\n",
            "Jaccard Accuracy for  poly is 0.836\n",
            "Jaccard Accuracy for  sigmoid is 0.686\n"
          ],
          "name": "stdout"
        }
      ]
    },
    {
      "cell_type": "code",
      "metadata": {
        "id": "Grv7wWJ9GuCG",
        "colab_type": "code",
        "colab": {}
      },
      "source": [
        "lst_clf_jacc.append(0.854)\n",
        "lst_clf_name.append('SVM-rbf')"
      ],
      "execution_count": 82,
      "outputs": []
    },
    {
      "cell_type": "markdown",
      "metadata": {
        "id": "3Eex5fUGCjJe",
        "colab_type": "text"
      },
      "source": [
        "> The maximum accuracy is for kernel: 'rbf' - radial basis function -> 0.854\n",
        "\n",
        "\n"
      ]
    },
    {
      "cell_type": "markdown",
      "metadata": {
        "id": "irRbeID0FOh2",
        "colab_type": "text"
      },
      "source": [
        "# Evaluation of all classifiers"
      ]
    },
    {
      "cell_type": "code",
      "metadata": {
        "id": "M68QpGqS1fcy",
        "colab_type": "code",
        "colab": {
          "base_uri": "https://localhost:8080/",
          "height": 173
        },
        "outputId": "ca2e42af-4bee-444a-a676-9bd875a0cfc9"
      },
      "source": [
        "table = pd.DataFrame(lst_clf_jacc, index=[lst_clf_name[0],lst_clf_name[1],lst_clf_name[2],lst_clf_name[3]])\n",
        "table.columns = ['Jaccard Score']\n",
        "table.columns.name = 'Classifier Type'\n",
        "table"
      ],
      "execution_count": 91,
      "outputs": [
        {
          "output_type": "execute_result",
          "data": {
            "text/html": [
              "<div>\n",
              "<style scoped>\n",
              "    .dataframe tbody tr th:only-of-type {\n",
              "        vertical-align: middle;\n",
              "    }\n",
              "\n",
              "    .dataframe tbody tr th {\n",
              "        vertical-align: top;\n",
              "    }\n",
              "\n",
              "    .dataframe thead th {\n",
              "        text-align: right;\n",
              "    }\n",
              "</style>\n",
              "<table border=\"1\" class=\"dataframe\">\n",
              "  <thead>\n",
              "    <tr style=\"text-align: right;\">\n",
              "      <th>Classifier Type</th>\n",
              "      <th>Jaccard Score</th>\n",
              "    </tr>\n",
              "  </thead>\n",
              "  <tbody>\n",
              "    <tr>\n",
              "      <th>Logistic Regression</th>\n",
              "      <td>0.791</td>\n",
              "    </tr>\n",
              "    <tr>\n",
              "      <th>Random Forest</th>\n",
              "      <td>0.863</td>\n",
              "    </tr>\n",
              "    <tr>\n",
              "      <th>K nearest neighnors k = 11</th>\n",
              "      <td>0.845</td>\n",
              "    </tr>\n",
              "    <tr>\n",
              "      <th>SVM-rbf</th>\n",
              "      <td>0.854</td>\n",
              "    </tr>\n",
              "  </tbody>\n",
              "</table>\n",
              "</div>"
            ],
            "text/plain": [
              "Classifier Type             Jaccard Score\n",
              "Logistic Regression                 0.791\n",
              "Random Forest                       0.863\n",
              "K nearest neighnors k = 11          0.845\n",
              "SVM-rbf                             0.854"
            ]
          },
          "metadata": {
            "tags": []
          },
          "execution_count": 91
        }
      ]
    },
    {
      "cell_type": "code",
      "metadata": {
        "id": "lQBVmqRmKtv2",
        "colab_type": "code",
        "colab": {
          "base_uri": "https://localhost:8080/",
          "height": 336
        },
        "outputId": "c8aef170-09fa-49a3-bd2b-e7793cc10fa4"
      },
      "source": [
        "#Bar plot\n",
        "fig = plt.figure()\n",
        "ax = fig.add_axes([0,0,1,1])\n",
        "langs = lst_clf_name\n",
        "students = lst_clf_jacc\n",
        "ax.bar(langs,students)\n",
        "plt.show()"
      ],
      "execution_count": 90,
      "outputs": [
        {
          "output_type": "display_data",
          "data": {
            "image/png": "[encoded data removed]",
            "text/plain": [
              "<Figure size 432x288 with 1 Axes>"
            ]
          },
          "metadata": {
            "tags": [],
            "needs_background": "light"
          }
        }
      ]
    },
    {
      "cell_type": "markdown",
      "metadata": {
        "id": "6PwCPTXuKN6t",
        "colab_type": "text"
      },
      "source": [
        "From the above table it is evident that for the given dataset the maximum out of sample accuracy is for **Random Forest Classifier.**"
      ]
    },
    {
      "cell_type": "markdown",
      "metadata": {
        "id": "CK09KfHQOdWP",
        "colab_type": "text"
      },
      "source": [
        "NOTE: This does not mean that other classifiers are not good, different classifiers work with different settings of parameters and hyper parameters, thus the classifiers accuracy depends upon the problem statment , the features, the type of attribute we want to get.\n",
        " "
      ]
    },
    {
      "cell_type": "code",
      "metadata": {
        "id": "ITwChWaeOcRA",
        "colab_type": "code",
        "colab": {}
      },
      "source": [
        ""
      ],
      "execution_count": null,
      "outputs": []
    }
  ]
}