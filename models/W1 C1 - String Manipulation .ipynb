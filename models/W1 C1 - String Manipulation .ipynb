{
 "cells": [
  {
   "cell_type": "code",
   "execution_count": 38,
   "metadata": {},
   "outputs": [],
   "source": [
    "\"\"\"\n",
    "DATE - 26/07/2021\n",
    "Subject - Training Lab (ML)\n",
    "Faculty - NIKITA SHARMA \n",
    "\"\"\"\n"
   ]
  },
  {
   "cell_type": "code",
   "execution_count": 1,
   "metadata": {},
   "outputs": [
    {
     "data": {
      "text/plain": [
       "499"
      ]
     },
     "execution_count": 1,
     "metadata": {},
     "output_type": "execute_result"
    }
   ],
   "source": [
    "string = \"Thriller is the sixth studio album by the American singer Michael Jackson, released on November 30, 1982 by Epic Records. It is the follow-up to Jackson's critically and commercially successful fifth studio album Off the Wall (1979). Thriller explores genres similar to those of Off the Wall, including pop, post-disco, rock and funk. Recording sessions for Thriller took place from April to November 1982 at Westlake Recording Studios in Los Angeles, California with a production budget of $750,000\"\n",
    "len(string)"
   ]
  },
  {
   "cell_type": "code",
   "execution_count": 8,
   "metadata": {},
   "outputs": [
    {
     "data": {
      "text/plain": [
       "\"thriller is the sixth studio album by the american singer michael jackson, released on november 30, 1982 by epic records. it is the follow-up to jackson's critically and commercially successful fifth studio album off the wall (1979). thriller explores genres similar to those of off the wall, including pop, post-disco, rock and funk. recording sessions for thriller took place from april to november 1982 at westlake recording studios in los angeles, california with a production budget of $750,000\""
      ]
     },
     "execution_count": 8,
     "metadata": {},
     "output_type": "execute_result"
    }
   ],
   "source": [
    "string.lower()"
   ]
  },
  {
   "cell_type": "code",
   "execution_count": 9,
   "metadata": {},
   "outputs": [
    {
     "data": {
      "text/plain": [
       "\"THRILLER IS THE SIXTH STUDIO ALBUM BY THE AMERICAN SINGER MICHAEL JACKSON, RELEASED ON NOVEMBER 30, 1982 BY EPIC RECORDS. IT IS THE FOLLOW-UP TO JACKSON'S CRITICALLY AND COMMERCIALLY SUCCESSFUL FIFTH STUDIO ALBUM OFF THE WALL (1979). THRILLER EXPLORES GENRES SIMILAR TO THOSE OF OFF THE WALL, INCLUDING POP, POST-DISCO, ROCK AND FUNK. RECORDING SESSIONS FOR THRILLER TOOK PLACE FROM APRIL TO NOVEMBER 1982 AT WESTLAKE RECORDING STUDIOS IN LOS ANGELES, CALIFORNIA WITH A PRODUCTION BUDGET OF $750,000\""
      ]
     },
     "execution_count": 9,
     "metadata": {},
     "output_type": "execute_result"
    }
   ],
   "source": [
    "string.upper()"
   ]
  },
  {
   "cell_type": "code",
   "execution_count": 31,
   "metadata": {},
   "outputs": [
    {
     "data": {
      "text/plain": [
       "\"->Romanchak is the sixth studio album by the American singer Michael Jackson, released on November 30, 1982 by Epic Records. It is the follow-up to Jackson's critically and commercially successful fifth studio album Off the Wall (1979). ->Romanchak explores genres similar to those of Off the Wall, including pop, post-disco, rock and funk. Recording sessions for ->Romanchak took place from April to November 1982 at Westlake Recording Studios in Los Angeles, California with a production budget of $750,000\""
      ]
     },
     "execution_count": 31,
     "metadata": {},
     "output_type": "execute_result"
    }
   ],
   "source": [
    "string.replace(\"Thriller\", \"->Romanchak\")"
   ]
  },
  {
   "cell_type": "code",
   "execution_count": 13,
   "metadata": {},
   "outputs": [
    {
     "data": {
      "text/plain": [
       "['Thriller',\n",
       " 'is',\n",
       " 'the',\n",
       " 'sixth',\n",
       " 'studio',\n",
       " 'album',\n",
       " 'by',\n",
       " 'the',\n",
       " 'American',\n",
       " 'singer',\n",
       " 'Michael',\n",
       " 'Jackson,',\n",
       " 'released',\n",
       " 'on',\n",
       " 'November',\n",
       " '30,',\n",
       " '1982',\n",
       " 'by',\n",
       " 'Epic',\n",
       " 'Records.',\n",
       " 'It',\n",
       " 'is',\n",
       " 'the',\n",
       " 'follow-up',\n",
       " 'to',\n",
       " \"Jackson's\",\n",
       " 'critically',\n",
       " 'and',\n",
       " 'commercially',\n",
       " 'successful',\n",
       " 'fifth',\n",
       " 'studio',\n",
       " 'album',\n",
       " 'Off',\n",
       " 'the',\n",
       " 'Wall',\n",
       " '(1979).',\n",
       " 'Thriller',\n",
       " 'explores',\n",
       " 'genres',\n",
       " 'similar',\n",
       " 'to',\n",
       " 'those',\n",
       " 'of',\n",
       " 'Off',\n",
       " 'the',\n",
       " 'Wall,',\n",
       " 'including',\n",
       " 'pop,',\n",
       " 'post-disco,',\n",
       " 'rock',\n",
       " 'and',\n",
       " 'funk.',\n",
       " 'Recording',\n",
       " 'sessions',\n",
       " 'for',\n",
       " 'Thriller',\n",
       " 'took',\n",
       " 'place',\n",
       " 'from',\n",
       " 'April',\n",
       " 'to',\n",
       " 'November',\n",
       " '1982',\n",
       " 'at',\n",
       " 'Westlake',\n",
       " 'Recording',\n",
       " 'Studios',\n",
       " 'in',\n",
       " 'Los',\n",
       " 'Angeles,',\n",
       " 'California',\n",
       " 'with',\n",
       " 'a',\n",
       " 'production',\n",
       " 'budget',\n",
       " 'of',\n",
       " '$750,000']"
      ]
     },
     "execution_count": 13,
     "metadata": {},
     "output_type": "execute_result"
    }
   ],
   "source": [
    "leng = string.split(\" \")\n",
    "leng"
   ]
  },
  {
   "cell_type": "code",
   "execution_count": 32,
   "metadata": {},
   "outputs": [
    {
     "data": {
      "text/plain": [
       "['Thriller is the sixth studio album by the American singer Michael Jackson',\n",
       " ' released on November 30',\n",
       " \" 1982 by Epic Records. It is the follow-up to Jackson's critically and commercially successful fifth studio album Off the Wall (1979). Thriller explores genres similar to those of Off the Wall\",\n",
       " ' including pop',\n",
       " ' post-disco',\n",
       " ' rock and funk. Recording sessions for Thriller took place from April to November 1982 at Westlake Recording Studios in Los Angeles',\n",
       " ' California with a production budget of $750',\n",
       " '000']"
      ]
     },
     "execution_count": 32,
     "metadata": {},
     "output_type": "execute_result"
    }
   ],
   "source": [
    "leng = string.split(\",\")\n",
    "leng"
   ]
  },
  {
   "cell_type": "code",
   "execution_count": 39,
   "metadata": {},
   "outputs": [
    {
     "data": {
      "text/plain": [
       "8"
      ]
     },
     "execution_count": 39,
     "metadata": {},
     "output_type": "execute_result"
    }
   ],
   "source": [
    "len(leng)"
   ]
  },
  {
   "cell_type": "raw",
   "metadata": {},
   "source": [
    "asd.sort()"
   ]
  },
  {
   "cell_type": "code",
   "execution_count": 17,
   "metadata": {
    "collapsed": true
   },
   "outputs": [
    {
     "data": {
      "text/plain": [
       "20"
      ]
     },
     "execution_count": 17,
     "metadata": {},
     "output_type": "execute_result"
    }
   ],
   "source": [
    "string.count(\"a\")"
   ]
  },
  {
   "cell_type": "code",
   "execution_count": 19,
   "metadata": {
    "collapsed": true
   },
   "outputs": [
    {
     "data": {
      "text/plain": [
       "3"
      ]
     },
     "execution_count": 19,
     "metadata": {},
     "output_type": "execute_result"
    }
   ],
   "source": [
    "string.lower().count(\"thriller\")"
   ]
  },
  {
   "cell_type": "code",
   "execution_count": 22,
   "metadata": {
    "collapsed": true
   },
   "outputs": [],
   "source": [
    "leng.sort()"
   ]
  },
  {
   "cell_type": "code",
   "execution_count": 23,
   "metadata": {
    "collapsed": true
   },
   "outputs": [
    {
     "data": {
      "text/plain": [
       "['$750,000',\n",
       " '(1979).',\n",
       " '1982',\n",
       " '1982',\n",
       " '30,',\n",
       " 'American',\n",
       " 'Angeles,',\n",
       " 'April',\n",
       " 'California',\n",
       " 'Epic',\n",
       " 'It',\n",
       " \"Jackson's\",\n",
       " 'Jackson,',\n",
       " 'Los',\n",
       " 'Michael',\n",
       " 'November',\n",
       " 'November',\n",
       " 'Off',\n",
       " 'Off',\n",
       " 'Recording',\n",
       " 'Recording',\n",
       " 'Records.',\n",
       " 'Studios',\n",
       " 'Thriller',\n",
       " 'Thriller',\n",
       " 'Thriller',\n",
       " 'Wall',\n",
       " 'Wall,',\n",
       " 'Westlake',\n",
       " 'a',\n",
       " 'album',\n",
       " 'album',\n",
       " 'and',\n",
       " 'and',\n",
       " 'at',\n",
       " 'budget',\n",
       " 'by',\n",
       " 'by',\n",
       " 'commercially',\n",
       " 'critically',\n",
       " 'explores',\n",
       " 'fifth',\n",
       " 'follow-up',\n",
       " 'for',\n",
       " 'from',\n",
       " 'funk.',\n",
       " 'genres',\n",
       " 'in',\n",
       " 'including',\n",
       " 'is',\n",
       " 'is',\n",
       " 'of',\n",
       " 'of',\n",
       " 'on',\n",
       " 'place',\n",
       " 'pop,',\n",
       " 'post-disco,',\n",
       " 'production',\n",
       " 'released',\n",
       " 'rock',\n",
       " 'sessions',\n",
       " 'similar',\n",
       " 'singer',\n",
       " 'sixth',\n",
       " 'studio',\n",
       " 'studio',\n",
       " 'successful',\n",
       " 'the',\n",
       " 'the',\n",
       " 'the',\n",
       " 'the',\n",
       " 'the',\n",
       " 'those',\n",
       " 'to',\n",
       " 'to',\n",
       " 'to',\n",
       " 'took',\n",
       " 'with']"
      ]
     },
     "execution_count": 23,
     "metadata": {},
     "output_type": "execute_result"
    }
   ],
   "source": [
    "leng"
   ]
  },
  {
   "cell_type": "code",
   "execution_count": 40,
   "metadata": {},
   "outputs": [
    {
     "data": {
      "text/plain": [
       "'Thriller '"
      ]
     },
     "execution_count": 40,
     "metadata": {},
     "output_type": "execute_result"
    }
   ],
   "source": [
    "string[0:9]"
   ]
  },
  {
   "cell_type": "code",
   "execution_count": 30,
   "metadata": {},
   "outputs": [
    {
     "data": {
      "text/plain": [
       "'Trle '"
      ]
     },
     "execution_count": 30,
     "metadata": {},
     "output_type": "execute_result"
    }
   ],
   "source": [
    "string[0:10:2]"
   ]
  },
  {
   "cell_type": "code",
   "execution_count": 33,
   "metadata": {},
   "outputs": [
    {
     "data": {
      "text/plain": [
       "'Thriller i'"
      ]
     },
     "execution_count": 33,
     "metadata": {},
     "output_type": "execute_result"
    }
   ],
   "source": [
    "string[0:10:1]"
   ]
  },
  {
   "cell_type": "code",
   "execution_count": 34,
   "metadata": {},
   "outputs": [
    {
     "data": {
      "text/plain": [
       "'Tiei'"
      ]
     },
     "execution_count": 34,
     "metadata": {},
     "output_type": "execute_result"
    }
   ],
   "source": [
    "string[0:10:3]"
   ]
  },
  {
   "cell_type": "code",
   "execution_count": 44,
   "metadata": {},
   "outputs": [
    {
     "data": {
      "text/plain": [
       "'budget of $750,00'"
      ]
     },
     "execution_count": 44,
     "metadata": {},
     "output_type": "execute_result"
    }
   ],
   "source": [
    "string[-18:-1]"
   ]
  },
  {
   "cell_type": "markdown",
   "metadata": {},
   "source": [
    "# <u>BUBBLE SORT</u>"
   ]
  },
  {
   "cell_type": "code",
   "execution_count": 9,
   "metadata": {},
   "outputs": [
    {
     "data": {
      "text/plain": [
       "[1, 2, 3, 4, 6, 8, 12, 33]"
      ]
     },
     "execution_count": 9,
     "metadata": {},
     "output_type": "execute_result"
    }
   ],
   "source": [
    "\"\"\"\n",
    "BUBBLE SORT -  sorting in which repeatedly swapping of the adjacent elements takes place unless the largest element in current\n",
    "pass comes out. \n",
    "! Buuble sort goes till the end of the list/array and calls it a complete pass.\n",
    "->Worst case : n^2 \n",
    "->Best case: n \n",
    "\"\"\"\n",
    "def bubble_sort(arr):\n",
    "    arr_len = len(arr)\n",
    "    \n",
    "    for i in range(0,arr_len): # n\n",
    "        for j in range(0,arr_len - i - 1): #  -1 is used to stop it from re-swapping the last element.\n",
    "            if arr[j] > arr[j+1]:\n",
    "                arr[j], arr[j+1] = arr[j+1], arr[j] # Swapping of variables ! Without 3rd var\n",
    "                \n",
    "\n",
    "array = [12,3,33,4,1,6,8,2]\n",
    "bubble_sort(array)\n",
    "\n",
    "array\n"
   ]
  },
  {
   "cell_type": "code",
   "execution_count": 16,
   "metadata": {},
   "outputs": [
    {
     "name": "stdout",
     "output_type": "stream",
     "text": [
      " 1 2 55 43\n"
     ]
    }
   ],
   "source": [
    "ai = input(\" \").split(\" \")\n",
    "ai = [int(i) for i in ai] \n",
    "ai"
   ]
  },
  {
   "cell_type": "code",
   "execution_count": 95,
   "metadata": {},
   "outputs": [
    {
     "data": {
      "text/plain": [
       "1"
      ]
     },
     "execution_count": 95,
     "metadata": {},
     "output_type": "execute_result"
    }
   ],
   "source": [
    "# Create a tuple and convert it into list.\n",
    "tup = tuple((1,2,3,4,5,6))\n",
    "list(tup)\n",
    "tup_list = [i for i in tup]\n",
    "tup_list\n",
    "tup_list.index(2)"
   ]
  },
  {
   "cell_type": "code",
   "execution_count": 121,
   "metadata": {},
   "outputs": [],
   "source": [
    "a = [1,233,4]\n",
    "b = [12,11,23]\n",
    "\n",
    "p = 12 & 11"
   ]
  },
  {
   "cell_type": "code",
   "execution_count": 61,
   "metadata": {},
   "outputs": [
    {
     "name": "stdout",
     "output_type": "stream",
     "text": [
      "123 1\n",
      "11 13\n"
     ]
    }
   ],
   "source": [
    "d = dict(input().split() for x in range(2))\n",
    "new_d = {int(key): value for key, value in d.items()} # d.items is a list of tuples of key value pairszd\n",
    "# Converting the value of Keys to some other data typebb"
   ]
  },
  {
   "cell_type": "markdown",
   "metadata": {},
   "source": [
    "## Lambda Functions, Dicts and Much more.\n",
    "<b>28/07/2021</b>"
   ]
  },
  {
   "cell_type": "code",
   "execution_count": 48,
   "metadata": {},
   "outputs": [],
   "source": [
    "import pandas as pd # pandas for dataframe and data manupilation"
   ]
  },
  {
   "cell_type": "code",
   "execution_count": 49,
   "metadata": {},
   "outputs": [],
   "source": [
    "lister = {'Column 1': ['Dhum','Chik','Dhump','Dhump','Chik'],\n",
    "         'Column 2': ['1','2','3','4','5'],\n",
    "         'Column 3': [1,2,3,4,5]\n",
    "         }\n",
    "\n",
    "lister = pd.DataFrame(lister,index=['First','Second','Third','Fourth','Fifth'])"
   ]
  },
  {
   "cell_type": "code",
   "execution_count": 50,
   "metadata": {},
   "outputs": [
    {
     "data": {
      "text/html": [
       "<div>\n",
       "<style scoped>\n",
       "    .dataframe tbody tr th:only-of-type {\n",
       "        vertical-align: middle;\n",
       "    }\n",
       "\n",
       "    .dataframe tbody tr th {\n",
       "        vertical-align: top;\n",
       "    }\n",
       "\n",
       "    .dataframe thead th {\n",
       "        text-align: right;\n",
       "    }\n",
       "</style>\n",
       "<table border=\"1\" class=\"dataframe\">\n",
       "  <thead>\n",
       "    <tr style=\"text-align: right;\">\n",
       "      <th></th>\n",
       "      <th>Column 1</th>\n",
       "      <th>Column 2</th>\n",
       "      <th>Column 3</th>\n",
       "    </tr>\n",
       "  </thead>\n",
       "  <tbody>\n",
       "    <tr>\n",
       "      <th>First</th>\n",
       "      <td>Dhum</td>\n",
       "      <td>1</td>\n",
       "      <td>1</td>\n",
       "    </tr>\n",
       "    <tr>\n",
       "      <th>Second</th>\n",
       "      <td>Chik</td>\n",
       "      <td>2</td>\n",
       "      <td>2</td>\n",
       "    </tr>\n",
       "    <tr>\n",
       "      <th>Third</th>\n",
       "      <td>Dhump</td>\n",
       "      <td>3</td>\n",
       "      <td>3</td>\n",
       "    </tr>\n",
       "    <tr>\n",
       "      <th>Fourth</th>\n",
       "      <td>Dhump</td>\n",
       "      <td>4</td>\n",
       "      <td>4</td>\n",
       "    </tr>\n",
       "    <tr>\n",
       "      <th>Fifth</th>\n",
       "      <td>Chik</td>\n",
       "      <td>5</td>\n",
       "      <td>5</td>\n",
       "    </tr>\n",
       "  </tbody>\n",
       "</table>\n",
       "</div>"
      ],
      "text/plain": [
       "       Column 1 Column 2  Column 3\n",
       "First      Dhum        1         1\n",
       "Second     Chik        2         2\n",
       "Third     Dhump        3         3\n",
       "Fourth    Dhump        4         4\n",
       "Fifth      Chik        5         5"
      ]
     },
     "execution_count": 50,
     "metadata": {},
     "output_type": "execute_result"
    }
   ],
   "source": [
    "lister"
   ]
  },
  {
   "cell_type": "code",
   "execution_count": 51,
   "metadata": {},
   "outputs": [
    {
     "data": {
      "text/plain": [
       "array([['Dhum', '1', 1],\n",
       "       ['Chik', '2', 2],\n",
       "       ['Dhump', '3', 3],\n",
       "       ['Dhump', '4', 4],\n",
       "       ['Chik', '5', 5]], dtype=object)"
      ]
     },
     "execution_count": 51,
     "metadata": {},
     "output_type": "execute_result"
    }
   ],
   "source": [
    "lister.values"
   ]
  },
  {
   "cell_type": "code",
   "execution_count": 52,
   "metadata": {},
   "outputs": [
    {
     "data": {
      "text/plain": [
       "<bound method NDFrame.keys of        Column 1 Column 2  Column 3\n",
       "First      Dhum        1         1\n",
       "Second     Chik        2         2\n",
       "Third     Dhump        3         3\n",
       "Fourth    Dhump        4         4\n",
       "Fifth      Chik        5         5>"
      ]
     },
     "execution_count": 52,
     "metadata": {},
     "output_type": "execute_result"
    }
   ],
   "source": [
    "lister.keys"
   ]
  },
  {
   "cell_type": "code",
   "execution_count": 53,
   "metadata": {},
   "outputs": [
    {
     "data": {
      "text/plain": [
       "<generator object DataFrame.iteritems at 0x000001470EED1CF0>"
      ]
     },
     "execution_count": 53,
     "metadata": {},
     "output_type": "execute_result"
    }
   ],
   "source": [
    "lister.items()"
   ]
  },
  {
   "cell_type": "code",
   "execution_count": 54,
   "metadata": {},
   "outputs": [
    {
     "data": {
      "text/plain": [
       "Column 1    object\n",
       "Column 2    object\n",
       "Column 3     int64\n",
       "dtype: object"
      ]
     },
     "execution_count": 54,
     "metadata": {},
     "output_type": "execute_result"
    }
   ],
   "source": [
    "lister.dtypes"
   ]
  },
  {
   "cell_type": "code",
   "execution_count": 55,
   "metadata": {},
   "outputs": [
    {
     "data": {
      "text/plain": [
       "15"
      ]
     },
     "execution_count": 55,
     "metadata": {},
     "output_type": "execute_result"
    }
   ],
   "source": [
    "lister.size"
   ]
  },
  {
   "cell_type": "code",
   "execution_count": 56,
   "metadata": {},
   "outputs": [
    {
     "data": {
      "text/plain": [
       "Index(['Column 1', 'Column 2', 'Column 3'], dtype='object')"
      ]
     },
     "execution_count": 56,
     "metadata": {},
     "output_type": "execute_result"
    }
   ],
   "source": [
    "lister.columns"
   ]
  },
  {
   "cell_type": "code",
   "execution_count": 57,
   "metadata": {},
   "outputs": [
    {
     "data": {
      "text/plain": [
       "(5, 3)"
      ]
     },
     "execution_count": 57,
     "metadata": {},
     "output_type": "execute_result"
    }
   ],
   "source": [
    "lister.shape"
   ]
  },
  {
   "cell_type": "code",
   "execution_count": 61,
   "metadata": {},
   "outputs": [
    {
     "data": {
      "text/plain": [
       "'Chik'"
      ]
     },
     "execution_count": 61,
     "metadata": {},
     "output_type": "execute_result"
    }
   ],
   "source": [
    "lister['Column 1'][4]"
   ]
  },
  {
   "cell_type": "code",
   "execution_count": 45,
   "metadata": {},
   "outputs": [
    {
     "data": {
      "text/html": [
       "<div>\n",
       "<style scoped>\n",
       "    .dataframe tbody tr th:only-of-type {\n",
       "        vertical-align: middle;\n",
       "    }\n",
       "\n",
       "    .dataframe tbody tr th {\n",
       "        vertical-align: top;\n",
       "    }\n",
       "\n",
       "    .dataframe thead th {\n",
       "        text-align: right;\n",
       "    }\n",
       "</style>\n",
       "<table border=\"1\" class=\"dataframe\">\n",
       "  <thead>\n",
       "    <tr style=\"text-align: right;\">\n",
       "      <th></th>\n",
       "      <th>Column 1</th>\n",
       "      <th>Column 2</th>\n",
       "      <th>Column 3</th>\n",
       "    </tr>\n",
       "  </thead>\n",
       "  <tbody>\n",
       "    <tr>\n",
       "      <th>First</th>\n",
       "      <td>Dhum</td>\n",
       "      <td>1</td>\n",
       "      <td>1</td>\n",
       "    </tr>\n",
       "    <tr>\n",
       "      <th>Second</th>\n",
       "      <td>Chik</td>\n",
       "      <td>2</td>\n",
       "      <td>2</td>\n",
       "    </tr>\n",
       "  </tbody>\n",
       "</table>\n",
       "</div>"
      ],
      "text/plain": [
       "       Column 1 Column 2  Column 3\n",
       "First      Dhum        1         1\n",
       "Second     Chik        2         2"
      ]
     },
     "execution_count": 45,
     "metadata": {},
     "output_type": "execute_result"
    }
   ],
   "source": [
    "lister.head(2)"
   ]
  },
  {
   "cell_type": "code",
   "execution_count": 44,
   "metadata": {},
   "outputs": [
    {
     "data": {
      "text/html": [
       "<div>\n",
       "<style scoped>\n",
       "    .dataframe tbody tr th:only-of-type {\n",
       "        vertical-align: middle;\n",
       "    }\n",
       "\n",
       "    .dataframe tbody tr th {\n",
       "        vertical-align: top;\n",
       "    }\n",
       "\n",
       "    .dataframe thead th {\n",
       "        text-align: right;\n",
       "    }\n",
       "</style>\n",
       "<table border=\"1\" class=\"dataframe\">\n",
       "  <thead>\n",
       "    <tr style=\"text-align: right;\">\n",
       "      <th></th>\n",
       "      <th>Column 3</th>\n",
       "    </tr>\n",
       "  </thead>\n",
       "  <tbody>\n",
       "    <tr>\n",
       "      <th>count</th>\n",
       "      <td>5.000000</td>\n",
       "    </tr>\n",
       "    <tr>\n",
       "      <th>mean</th>\n",
       "      <td>3.000000</td>\n",
       "    </tr>\n",
       "    <tr>\n",
       "      <th>std</th>\n",
       "      <td>1.581139</td>\n",
       "    </tr>\n",
       "    <tr>\n",
       "      <th>min</th>\n",
       "      <td>1.000000</td>\n",
       "    </tr>\n",
       "    <tr>\n",
       "      <th>25%</th>\n",
       "      <td>2.000000</td>\n",
       "    </tr>\n",
       "    <tr>\n",
       "      <th>50%</th>\n",
       "      <td>3.000000</td>\n",
       "    </tr>\n",
       "    <tr>\n",
       "      <th>75%</th>\n",
       "      <td>4.000000</td>\n",
       "    </tr>\n",
       "    <tr>\n",
       "      <th>max</th>\n",
       "      <td>5.000000</td>\n",
       "    </tr>\n",
       "  </tbody>\n",
       "</table>\n",
       "</div>"
      ],
      "text/plain": [
       "       Column 3\n",
       "count  5.000000\n",
       "mean   3.000000\n",
       "std    1.581139\n",
       "min    1.000000\n",
       "25%    2.000000\n",
       "50%    3.000000\n",
       "75%    4.000000\n",
       "max    5.000000"
      ]
     },
     "execution_count": 44,
     "metadata": {},
     "output_type": "execute_result"
    }
   ],
   "source": [
    "lister.describe()"
   ]
  },
  {
   "cell_type": "code",
   "execution_count": 1,
   "metadata": {},
   "outputs": [
    {
     "ename": "NameError",
     "evalue": "name 'lister' is not defined",
     "output_type": "error",
     "traceback": [
      "\u001b[1;31m---------------------------------------------------------------------------\u001b[0m",
      "\u001b[1;31mNameError\u001b[0m                                 Traceback (most recent call last)",
      "\u001b[1;32m<ipython-input-1-d533b8f8923a>\u001b[0m in \u001b[0;36m<module>\u001b[1;34m\u001b[0m\n\u001b[1;32m----> 1\u001b[1;33m \u001b[0mlister\u001b[0m\u001b[1;33m[\u001b[0m\u001b[1;34m'Column 1'\u001b[0m\u001b[1;33m]\u001b[0m\u001b[1;33m\u001b[0m\u001b[1;33m\u001b[0m\u001b[0m\n\u001b[0m",
      "\u001b[1;31mNameError\u001b[0m: name 'lister' is not defined"
     ]
    }
   ],
   "source": [
    "lister['Column 1']"
   ]
  },
  {
   "cell_type": "code",
   "execution_count": 19,
   "metadata": {},
   "outputs": [],
   "source": [
    "pp = [[i,j] for i,j in zip(numero,numero[::-1])] "
   ]
  },
  {
   "cell_type": "code",
   "execution_count": null,
   "metadata": {},
   "outputs": [],
   "source": [
    "#to apply a function on a column on the dataset we use -> col.apply(function)"
   ]
  },
  {
   "cell_type": "code",
   "execution_count": 1,
   "metadata": {},
   "outputs": [],
   "source": [
    "import numpy as np\n",
    "import pandas as pd"
   ]
  },
  {
   "cell_type": "code",
   "execution_count": 5,
   "metadata": {},
   "outputs": [
    {
     "data": {
      "text/plain": [
       "array([1, 5])"
      ]
     },
     "execution_count": 5,
     "metadata": {},
     "output_type": "execute_result"
    }
   ],
   "source": [
    "np.sum([[0, 1], [0, 5]], axis=1)\n"
   ]
  },
  {
   "cell_type": "code",
   "execution_count": 10,
   "metadata": {},
   "outputs": [],
   "source": [
    "a=np.array([0,1,2,3])\n",
    "b=np.array([2,3,4,5])"
   ]
  },
  {
   "cell_type": "code",
   "execution_count": 12,
   "metadata": {},
   "outputs": [
    {
     "data": {
      "text/plain": [
       "[False, False, False, False, True, True, True]"
      ]
     },
     "execution_count": 12,
     "metadata": {},
     "output_type": "execute_result"
    }
   ],
   "source": [
    "l = [-3,-2,-1,0,1,2,3]\n",
    "list(map(lambda x: x>0,l))"
   ]
  },
  {
   "cell_type": "code",
   "execution_count": 15,
   "metadata": {},
   "outputs": [
    {
     "data": {
      "text/plain": [
       "[8, 10, 12, 14]"
      ]
     },
     "execution_count": 15,
     "metadata": {},
     "output_type": "execute_result"
    }
   ],
   "source": [
    "from functools import reduce\n",
    "ll = [1,2,3,4,5]\n",
    "ll2 = [7,8,9,10]\n",
    "list(map(lambda x,y :x+y,ll,ll2))"
   ]
  },
  {
   "cell_type": "code",
   "execution_count": 16,
   "metadata": {},
   "outputs": [
    {
     "data": {
      "text/plain": [
       "15"
      ]
     },
     "execution_count": 16,
     "metadata": {},
     "output_type": "execute_result"
    }
   ],
   "source": [
    "def cl(*args):\n",
    "    return sum(args)\n",
    "\n",
    "cl(1,2,3,4,5)"
   ]
  },
  {
   "cell_type": "code",
   "execution_count": 31,
   "metadata": {},
   "outputs": [
    {
     "data": {
      "text/plain": [
       "True"
      ]
     },
     "execution_count": 31,
     "metadata": {},
     "output_type": "execute_result"
    }
   ],
   "source": [
    "d = {\"john\":12, 'peter':2}\n",
    "\"john\" in d"
   ]
  },
  {
   "cell_type": "code",
   "execution_count": 20,
   "metadata": {},
   "outputs": [
    {
     "data": {
      "text/plain": [
       "[2, 3]"
      ]
     },
     "execution_count": 20,
     "metadata": {},
     "output_type": "execute_result"
    }
   ],
   "source": [
    "ll[1:3]"
   ]
  },
  {
   "cell_type": "code",
   "execution_count": 21,
   "metadata": {},
   "outputs": [],
   "source": [
    "ss = [12, 'as','ass','asdc']"
   ]
  },
  {
   "cell_type": "code",
   "execution_count": 22,
   "metadata": {},
   "outputs": [
    {
     "name": "stdout",
     "output_type": "stream",
     "text": [
      "asdc\n"
     ]
    }
   ],
   "source": [
    "print(ss.pop())"
   ]
  },
  {
   "cell_type": "code",
   "execution_count": 23,
   "metadata": {},
   "outputs": [
    {
     "name": "stdout",
     "output_type": "stream",
     "text": [
      "['h', 'e', 'l', 'l', 'o']\n"
     ]
    }
   ],
   "source": [
    "print([i.lower() for i in \"HELLO\"])\n"
   ]
  },
  {
   "cell_type": "code",
   "execution_count": 26,
   "metadata": {},
   "outputs": [
    {
     "name": "stdout",
     "output_type": "stream",
     "text": [
      "50\n"
     ]
    }
   ],
   "source": [
    "x=50\n",
    "def cca(x):\n",
    "    x =2\n",
    "cca(x)\n",
    "print(x)"
   ]
  },
  {
   "cell_type": "code",
   "execution_count": 25,
   "metadata": {},
   "outputs": [
    {
     "name": "stdout",
     "output_type": "stream",
     "text": [
      "abcs\n",
      "a\n",
      "a\n",
      "a\n"
     ]
    }
   ],
   "source": [
    "x='abcs'\n",
    "for i in range(len(x)):\n",
    "    print(x)\n",
    "    x='a'"
   ]
  },
  {
   "cell_type": "code",
   "execution_count": 30,
   "metadata": {},
   "outputs": [
    {
     "name": "stdout",
     "output_type": "stream",
     "text": [
      "ABCS\n"
     ]
    }
   ],
   "source": [
    "xx = \"abcs\"\n",
    "a = xx.upper()\n",
    "print(a)"
   ]
  },
  {
   "cell_type": "code",
   "execution_count": null,
   "metadata": {},
   "outputs": [],
   "source": []
  }
 ],
 "metadata": {
  "kernelspec": {
   "display_name": "Python 3",
   "language": "python",
   "name": "python3"
  },
  "language_info": {
   "codemirror_mode": {
    "name": "ipython",
    "version": 3
   },
   "file_extension": ".py",
   "mimetype": "text/x-python",
   "name": "python",
   "nbconvert_exporter": "python",
   "pygments_lexer": "ipython3",
   "version": "3.7.3"
  }
 },
 "nbformat": 4,
 "nbformat_minor": 2
}
